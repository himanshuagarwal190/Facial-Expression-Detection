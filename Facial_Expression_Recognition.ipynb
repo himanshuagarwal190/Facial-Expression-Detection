{
  "nbformat": 4,
  "nbformat_minor": 0,
  "metadata": {
    "colab": {
      "name": "Facial Expression Recognition.ipynb",
      "provenance": [],
      "machine_shape": "hm"
    },
    "kernelspec": {
      "name": "python3",
      "display_name": "Python 3"
    },
    "accelerator": "TPU"
  },
  "cells": [
    {
      "cell_type": "code",
      "metadata": {
        "id": "HOzV-hyRsHE4",
        "colab_type": "code",
        "outputId": "1a488335-41fc-4c41-8683-62288d8f5de9",
        "colab": {
          "base_uri": "https://localhost:8080/",
          "height": 258
        }
      },
      "source": [
        "!pip install --upgrade --force-reinstall --no-deps kaggle"
      ],
      "execution_count": 1,
      "outputs": [
        {
          "output_type": "stream",
          "text": [
            "Collecting kaggle\n",
            "\u001b[?25l  Downloading https://files.pythonhosted.org/packages/62/ab/bb20f9b9e24f9a6250f95a432f8d9a7d745f8d24039d7a5a6eaadb7783ba/kaggle-1.5.6.tar.gz (58kB)\n",
            "\r\u001b[K     |█████▋                          | 10kB 16.2MB/s eta 0:00:01\r\u001b[K     |███████████▎                    | 20kB 2.2MB/s eta 0:00:01\r\u001b[K     |█████████████████               | 30kB 3.2MB/s eta 0:00:01\r\u001b[K     |██████████████████████▌         | 40kB 2.1MB/s eta 0:00:01\r\u001b[K     |████████████████████████████▏   | 51kB 2.6MB/s eta 0:00:01\r\u001b[K     |████████████████████████████████| 61kB 2.4MB/s \n",
            "\u001b[?25hBuilding wheels for collected packages: kaggle\n",
            "  Building wheel for kaggle (setup.py) ... \u001b[?25l\u001b[?25hdone\n",
            "  Created wheel for kaggle: filename=kaggle-1.5.6-cp36-none-any.whl size=72859 sha256=f41ca5687bc3c5d4ca3784b17d40e39f7ed62f9aa77206de343927eb1052ccb6\n",
            "  Stored in directory: /root/.cache/pip/wheels/57/4e/e8/bb28d035162fb8f17f8ca5d42c3230e284c6aa565b42b72674\n",
            "Successfully built kaggle\n",
            "Installing collected packages: kaggle\n",
            "  Found existing installation: kaggle 1.5.6\n",
            "    Uninstalling kaggle-1.5.6:\n",
            "      Successfully uninstalled kaggle-1.5.6\n",
            "Successfully installed kaggle-1.5.6\n"
          ],
          "name": "stdout"
        }
      ]
    },
    {
      "cell_type": "code",
      "metadata": {
        "id": "A6vUlOQfsMlx",
        "colab_type": "code",
        "outputId": "2065df70-ceec-4135-da0b-92e629cba13f",
        "colab": {
          "base_uri": "https://localhost:8080/",
          "height": 68
        }
      },
      "source": [
        "import os\n",
        "os.environ['KAGGLE_USERNAME'] = \"himanshuagarwal190\" # username from the json file\n",
        "os.environ['KAGGLE_KEY'] = \"33e9024be1057cf493169f3a3a19c631\" # key from the json file\n",
        "!kaggle competitions download -c challenges-in-representation-learning-facial-expression-recognition-challenge"
      ],
      "execution_count": 2,
      "outputs": [
        {
          "output_type": "stream",
          "text": [
            "Downloading challenges-in-representation-learning-facial-expression-recognition-challenge.zip to /content\n",
            " 99% 281M/285M [00:03<00:00, 88.5MB/s]\n",
            "100% 285M/285M [00:03<00:00, 88.1MB/s]\n"
          ],
          "name": "stdout"
        }
      ]
    },
    {
      "cell_type": "code",
      "metadata": {
        "id": "QcTOaUufsUCj",
        "colab_type": "code",
        "outputId": "62ed1f3e-86ff-4dee-9822-ec0d9a0831e6",
        "colab": {
          "base_uri": "https://localhost:8080/",
          "height": 119
        }
      },
      "source": [
        "!unzip /content/challenges-in-representation-learning-facial-expression-recognition-challenge.zip"
      ],
      "execution_count": 3,
      "outputs": [
        {
          "output_type": "stream",
          "text": [
            "Archive:  /content/challenges-in-representation-learning-facial-expression-recognition-challenge.zip\n",
            "  inflating: example_submission.csv  \n",
            "  inflating: fer2013.tar.gz          \n",
            "  inflating: icml_face_data.csv      \n",
            "  inflating: test.csv                \n",
            "  inflating: train.csv               \n"
          ],
          "name": "stdout"
        }
      ]
    },
    {
      "cell_type": "code",
      "metadata": {
        "id": "UCQe1IIJsp3E",
        "colab_type": "code",
        "colab": {}
      },
      "source": [
        "import numpy as np\n",
        "import pandas as pd\n",
        "import os\n",
        "from tqdm import tqdm\n",
        "import matplotlib.pyplot as plt"
      ],
      "execution_count": 0,
      "outputs": []
    },
    {
      "cell_type": "code",
      "metadata": {
        "id": "Qi1Roy9ns-T_",
        "colab_type": "code",
        "outputId": "ebfbb15a-0763-42e4-d18d-d43fa72ae32b",
        "colab": {
          "base_uri": "https://localhost:8080/",
          "height": 204
        }
      },
      "source": [
        "train = pd.read_csv('train.csv')\n",
        "test = pd.read_csv('test.csv')\n",
        "train.head()"
      ],
      "execution_count": 5,
      "outputs": [
        {
          "output_type": "execute_result",
          "data": {
            "text/html": [
              "<div>\n",
              "<style scoped>\n",
              "    .dataframe tbody tr th:only-of-type {\n",
              "        vertical-align: middle;\n",
              "    }\n",
              "\n",
              "    .dataframe tbody tr th {\n",
              "        vertical-align: top;\n",
              "    }\n",
              "\n",
              "    .dataframe thead th {\n",
              "        text-align: right;\n",
              "    }\n",
              "</style>\n",
              "<table border=\"1\" class=\"dataframe\">\n",
              "  <thead>\n",
              "    <tr style=\"text-align: right;\">\n",
              "      <th></th>\n",
              "      <th>emotion</th>\n",
              "      <th>pixels</th>\n",
              "    </tr>\n",
              "  </thead>\n",
              "  <tbody>\n",
              "    <tr>\n",
              "      <th>0</th>\n",
              "      <td>0</td>\n",
              "      <td>70 80 82 72 58 58 60 63 54 58 60 48 89 115 121...</td>\n",
              "    </tr>\n",
              "    <tr>\n",
              "      <th>1</th>\n",
              "      <td>0</td>\n",
              "      <td>151 150 147 155 148 133 111 140 170 174 182 15...</td>\n",
              "    </tr>\n",
              "    <tr>\n",
              "      <th>2</th>\n",
              "      <td>2</td>\n",
              "      <td>231 212 156 164 174 138 161 173 182 200 106 38...</td>\n",
              "    </tr>\n",
              "    <tr>\n",
              "      <th>3</th>\n",
              "      <td>4</td>\n",
              "      <td>24 32 36 30 32 23 19 20 30 41 21 22 32 34 21 1...</td>\n",
              "    </tr>\n",
              "    <tr>\n",
              "      <th>4</th>\n",
              "      <td>6</td>\n",
              "      <td>4 0 0 0 0 0 0 0 0 0 0 0 3 15 23 28 48 50 58 84...</td>\n",
              "    </tr>\n",
              "  </tbody>\n",
              "</table>\n",
              "</div>"
            ],
            "text/plain": [
              "   emotion                                             pixels\n",
              "0        0  70 80 82 72 58 58 60 63 54 58 60 48 89 115 121...\n",
              "1        0  151 150 147 155 148 133 111 140 170 174 182 15...\n",
              "2        2  231 212 156 164 174 138 161 173 182 200 106 38...\n",
              "3        4  24 32 36 30 32 23 19 20 30 41 21 22 32 34 21 1...\n",
              "4        6  4 0 0 0 0 0 0 0 0 0 0 0 3 15 23 28 48 50 58 84..."
            ]
          },
          "metadata": {
            "tags": []
          },
          "execution_count": 5
        }
      ]
    },
    {
      "cell_type": "code",
      "metadata": {
        "id": "s7gl8MVEOxOp",
        "colab_type": "code",
        "outputId": "313b7220-df1e-4f40-d4df-9dd7906c709c",
        "colab": {
          "base_uri": "https://localhost:8080/",
          "height": 315
        }
      },
      "source": [
        "train.hist(bins=7)"
      ],
      "execution_count": 6,
      "outputs": [
        {
          "output_type": "execute_result",
          "data": {
            "text/plain": [
              "array([[<matplotlib.axes._subplots.AxesSubplot object at 0x7fcef1dd5b70>]],\n",
              "      dtype=object)"
            ]
          },
          "metadata": {
            "tags": []
          },
          "execution_count": 6
        },
        {
          "output_type": "display_data",
          "data": {
            "image/png": "[encoded data removed]",
            "text/plain": [
              "<Figure size 432x288 with 1 Axes>"
            ]
          },
          "metadata": {
            "tags": []
          }
        }
      ]
    },
    {
      "cell_type": "code",
      "metadata": {
        "id": "yD52WoqbtFou",
        "colab_type": "code",
        "colab": {}
      },
      "source": [
        "def load_data(csv):\n",
        "  pixels = []\n",
        "  emotion = []\n",
        "  for index, row in tqdm(csv.iterrows()):\n",
        "    pix = row['pixels'].split(' ')\n",
        "    pix = [int(i) for i in pix]\n",
        "    pixels.append(pix)\n",
        "    emotion.append(int(row['emotion']))\n",
        "  return pixels, emotion"
      ],
      "execution_count": 0,
      "outputs": []
    },
    {
      "cell_type": "code",
      "metadata": {
        "id": "Xs_dGCyTu_He",
        "colab_type": "code",
        "outputId": "51aaef10-5257-404c-a460-93fcd717ef94",
        "colab": {
          "base_uri": "https://localhost:8080/",
          "height": 34
        }
      },
      "source": [
        "x_train, y_train = load_data(train)\n",
        "x_train = np.array(x_train)/255\n",
        "y_train = np.array(y_train)\n",
        "x_train = x_train.reshape(x_train.shape[0], 48, 48, 1)"
      ],
      "execution_count": 9,
      "outputs": [
        {
          "output_type": "stream",
          "text": [
            "28709it [00:19, 1478.27it/s]\n"
          ],
          "name": "stderr"
        }
      ]
    },
    {
      "cell_type": "code",
      "metadata": {
        "id": "hQoHLGeTTIOO",
        "colab_type": "code",
        "colab": {}
      },
      "source": [
        "from sklearn.utils import class_weight\n",
        "class_wt = class_weight.compute_class_weight('balanced', np.unique(y_train), y_train)"
      ],
      "execution_count": 0,
      "outputs": []
    },
    {
      "cell_type": "code",
      "metadata": {
        "id": "eBw3XxZ9vM9I",
        "colab_type": "code",
        "colab": {}
      },
      "source": [
        "from sklearn.model_selection import train_test_split\n",
        "from sklearn.utils import shuffle\n",
        "\n",
        "x_train, y_train = shuffle(x_train, y_train)\n",
        "x_train, x_valid, y_train, y_valid = train_test_split(x_train, y_train, test_size=0.2, random_state=28)"
      ],
      "execution_count": 0,
      "outputs": []
    },
    {
      "cell_type": "code",
      "metadata": {
        "id": "cRLrH8oM1VSb",
        "colab_type": "code",
        "colab": {}
      },
      "source": [
        "from keras.models import Sequential, model_from_json\n",
        "from keras.layers import Dense, Conv2D, MaxPool2D, Dropout, BatchNormalization, Flatten\n",
        "from keras.callbacks import ModelCheckpoint, ReduceLROnPlateau\n",
        "import warnings\n",
        "warnings.filterwarnings('ignore')"
      ],
      "execution_count": 0,
      "outputs": []
    },
    {
      "cell_type": "code",
      "metadata": {
        "id": "KtWzLlsg1xMC",
        "colab_type": "code",
        "outputId": "b6bab0a3-2090-4fa5-f1c9-8f073533632c",
        "colab": {
          "base_uri": "https://localhost:8080/",
          "height": 1000
        }
      },
      "source": [
        "model = Sequential()\n",
        "#1\n",
        "model.add(Conv2D(32, (3,3), activation='relu', input_shape=x_train.shape[1:], padding='same'))\n",
        "model.add(Conv2D(32, (3,3), activation='relu', padding='same'))\n",
        "model.add(BatchNormalization())\n",
        "model.add(MaxPool2D(2))\n",
        "model.add(Dropout(0.3))\n",
        "#2\n",
        "model.add(Conv2D(64, (3,3), activation='relu', padding='same'))\n",
        "model.add(Conv2D(64, (3,3), activation='relu', padding='same'))\n",
        "model.add(BatchNormalization())\n",
        "model.add(MaxPool2D(2))\n",
        "model.add(Dropout(0.4))\n",
        "#3\n",
        "model.add(Conv2D(128, (3,3), activation='relu', padding='same'))\n",
        "model.add(Conv2D(128, (3,3), activation='relu', padding='same'))\n",
        "model.add(BatchNormalization())\n",
        "model.add(MaxPool2D(2))\n",
        "model.add(Dropout(0.4))\n",
        "#4\n",
        "model.add(Flatten())\n",
        "model.add(Dense(128, activation='relu'))\n",
        "model.add(Dropout(0.3))\n",
        "model.add(Dense(7, activation='softmax'))\n",
        "\n",
        "model.compile(loss='sparse_categorical_crossentropy', optimizer='adam', metrics=['accuracy'])\n",
        "ck = ModelCheckpoint('face_weights.hdf5', monitor='val_loss', verbose=1, save_best_only=True, mode='auto')\n",
        "re_lr = ReduceLROnPlateau(monitor='val_loss', factor=0.2, patience=4, verbose=1)\n",
        "model.summary()"
      ],
      "execution_count": 21,
      "outputs": [
        {
          "output_type": "stream",
          "text": [
            "WARNING:tensorflow:From /usr/local/lib/python3.6/dist-packages/keras/backend/tensorflow_backend.py:66: The name tf.get_default_graph is deprecated. Please use tf.compat.v1.get_default_graph instead.\n",
            "\n",
            "WARNING:tensorflow:From /usr/local/lib/python3.6/dist-packages/keras/backend/tensorflow_backend.py:541: The name tf.placeholder is deprecated. Please use tf.compat.v1.placeholder instead.\n",
            "\n",
            "WARNING:tensorflow:From /usr/local/lib/python3.6/dist-packages/keras/backend/tensorflow_backend.py:4432: The name tf.random_uniform is deprecated. Please use tf.random.uniform instead.\n",
            "\n",
            "WARNING:tensorflow:From /usr/local/lib/python3.6/dist-packages/keras/backend/tensorflow_backend.py:190: The name tf.get_default_session is deprecated. Please use tf.compat.v1.get_default_session instead.\n",
            "\n",
            "WARNING:tensorflow:From /usr/local/lib/python3.6/dist-packages/keras/backend/tensorflow_backend.py:197: The name tf.ConfigProto is deprecated. Please use tf.compat.v1.ConfigProto instead.\n",
            "\n",
            "WARNING:tensorflow:From /usr/local/lib/python3.6/dist-packages/keras/backend/tensorflow_backend.py:203: The name tf.Session is deprecated. Please use tf.compat.v1.Session instead.\n",
            "\n",
            "WARNING:tensorflow:From /usr/local/lib/python3.6/dist-packages/keras/backend/tensorflow_backend.py:207: The name tf.global_variables is deprecated. Please use tf.compat.v1.global_variables instead.\n",
            "\n",
            "WARNING:tensorflow:From /usr/local/lib/python3.6/dist-packages/keras/backend/tensorflow_backend.py:216: The name tf.is_variable_initialized is deprecated. Please use tf.compat.v1.is_variable_initialized instead.\n",
            "\n",
            "WARNING:tensorflow:From /usr/local/lib/python3.6/dist-packages/keras/backend/tensorflow_backend.py:223: The name tf.variables_initializer is deprecated. Please use tf.compat.v1.variables_initializer instead.\n",
            "\n",
            "WARNING:tensorflow:From /usr/local/lib/python3.6/dist-packages/keras/backend/tensorflow_backend.py:2041: The name tf.nn.fused_batch_norm is deprecated. Please use tf.compat.v1.nn.fused_batch_norm instead.\n",
            "\n",
            "WARNING:tensorflow:From /usr/local/lib/python3.6/dist-packages/keras/backend/tensorflow_backend.py:148: The name tf.placeholder_with_default is deprecated. Please use tf.compat.v1.placeholder_with_default instead.\n",
            "\n",
            "WARNING:tensorflow:From /usr/local/lib/python3.6/dist-packages/keras/backend/tensorflow_backend.py:4267: The name tf.nn.max_pool is deprecated. Please use tf.nn.max_pool2d instead.\n",
            "\n",
            "WARNING:tensorflow:From /usr/local/lib/python3.6/dist-packages/keras/backend/tensorflow_backend.py:3733: calling dropout (from tensorflow.python.ops.nn_ops) with keep_prob is deprecated and will be removed in a future version.\n",
            "Instructions for updating:\n",
            "Please use `rate` instead of `keep_prob`. Rate should be set to `rate = 1 - keep_prob`.\n",
            "WARNING:tensorflow:From /usr/local/lib/python3.6/dist-packages/keras/optimizers.py:793: The name tf.train.Optimizer is deprecated. Please use tf.compat.v1.train.Optimizer instead.\n",
            "\n",
            "WARNING:tensorflow:From /usr/local/lib/python3.6/dist-packages/keras/backend/tensorflow_backend.py:3622: The name tf.log is deprecated. Please use tf.math.log instead.\n",
            "\n",
            "Model: \"sequential_1\"\n",
            "_________________________________________________________________\n",
            "Layer (type)                 Output Shape              Param #   \n",
            "=================================================================\n",
            "conv2d_1 (Conv2D)            (None, 48, 48, 32)        320       \n",
            "_________________________________________________________________\n",
            "conv2d_2 (Conv2D)            (None, 48, 48, 32)        9248      \n",
            "_________________________________________________________________\n",
            "batch_normalization_1 (Batch (None, 48, 48, 32)        128       \n",
            "_________________________________________________________________\n",
            "max_pooling2d_1 (MaxPooling2 (None, 24, 24, 32)        0         \n",
            "_________________________________________________________________\n",
            "dropout_1 (Dropout)          (None, 24, 24, 32)        0         \n",
            "_________________________________________________________________\n",
            "conv2d_3 (Conv2D)            (None, 24, 24, 64)        18496     \n",
            "_________________________________________________________________\n",
            "conv2d_4 (Conv2D)            (None, 24, 24, 64)        36928     \n",
            "_________________________________________________________________\n",
            "batch_normalization_2 (Batch (None, 24, 24, 64)        256       \n",
            "_________________________________________________________________\n",
            "max_pooling2d_2 (MaxPooling2 (None, 12, 12, 64)        0         \n",
            "_________________________________________________________________\n",
            "dropout_2 (Dropout)          (None, 12, 12, 64)        0         \n",
            "_________________________________________________________________\n",
            "conv2d_5 (Conv2D)            (None, 12, 12, 128)       73856     \n",
            "_________________________________________________________________\n",
            "conv2d_6 (Conv2D)            (None, 12, 12, 128)       147584    \n",
            "_________________________________________________________________\n",
            "batch_normalization_3 (Batch (None, 12, 12, 128)       512       \n",
            "_________________________________________________________________\n",
            "max_pooling2d_3 (MaxPooling2 (None, 6, 6, 128)         0         \n",
            "_________________________________________________________________\n",
            "dropout_3 (Dropout)          (None, 6, 6, 128)         0         \n",
            "_________________________________________________________________\n",
            "flatten_1 (Flatten)          (None, 4608)              0         \n",
            "_________________________________________________________________\n",
            "dense_1 (Dense)              (None, 128)               589952    \n",
            "_________________________________________________________________\n",
            "dropout_4 (Dropout)          (None, 128)               0         \n",
            "_________________________________________________________________\n",
            "dense_2 (Dense)              (None, 7)                 903       \n",
            "=================================================================\n",
            "Total params: 878,183\n",
            "Trainable params: 877,735\n",
            "Non-trainable params: 448\n",
            "_________________________________________________________________\n"
          ],
          "name": "stdout"
        }
      ]
    },
    {
      "cell_type": "code",
      "metadata": {
        "id": "EeoBqRHD5HqE",
        "colab_type": "code",
        "outputId": "eb564590-da92-411e-e899-b1de4a311ca8",
        "colab": {
          "base_uri": "https://localhost:8080/",
          "height": 1000
        }
      },
      "source": [
        "model.fit(x_train, y_train, batch_size=32, epochs=25, verbose=1, callbacks=[ck, re_lr],\n",
        "          validation_data=(x_valid,y_valid), class_weight=class_wt)"
      ],
      "execution_count": 0,
      "outputs": [
        {
          "output_type": "stream",
          "text": [
            "Train on 22967 samples, validate on 5742 samples\n",
            "Epoch 1/25\n",
            "22967/22967 [==============================] - 67s 3ms/step - loss: 0.9134 - acc: 0.6527 - val_loss: 1.0970 - val_acc: 0.6116\n",
            "\n",
            "Epoch 00001: val_loss did not improve from 1.09505\n",
            "Epoch 2/25\n",
            "22967/22967 [==============================] - 68s 3ms/step - loss: 0.9144 - acc: 0.6493 - val_loss: 1.0967 - val_acc: 0.6122\n",
            "\n",
            "Epoch 00002: val_loss did not improve from 1.09505\n",
            "Epoch 3/25\n",
            "22967/22967 [==============================] - 67s 3ms/step - loss: 0.9169 - acc: 0.6491 - val_loss: 1.0972 - val_acc: 0.6108\n",
            "\n",
            "Epoch 00003: val_loss did not improve from 1.09505\n",
            "Epoch 4/25\n",
            "22967/22967 [==============================] - 67s 3ms/step - loss: 0.9125 - acc: 0.6519 - val_loss: 1.0976 - val_acc: 0.6116\n",
            "\n",
            "Epoch 00004: val_loss did not improve from 1.09505\n",
            "Epoch 5/25\n",
            "22967/22967 [==============================] - 67s 3ms/step - loss: 0.9137 - acc: 0.6494 - val_loss: 1.0970 - val_acc: 0.6113\n",
            "\n",
            "Epoch 00005: val_loss did not improve from 1.09505\n",
            "Epoch 6/25\n",
            "22967/22967 [==============================] - 67s 3ms/step - loss: 0.9142 - acc: 0.6456 - val_loss: 1.0973 - val_acc: 0.6111\n",
            "\n",
            "Epoch 00006: val_loss did not improve from 1.09505\n",
            "\n",
            "Epoch 00006: ReduceLROnPlateau reducing learning rate to 3.200000264769187e-07.\n",
            "Epoch 7/25\n",
            "22967/22967 [==============================] - 67s 3ms/step - loss: 0.9185 - acc: 0.6488 - val_loss: 1.0972 - val_acc: 0.6113\n",
            "\n",
            "Epoch 00007: val_loss did not improve from 1.09505\n",
            "Epoch 8/25\n",
            "22967/22967 [==============================] - 66s 3ms/step - loss: 0.9135 - acc: 0.6490 - val_loss: 1.0964 - val_acc: 0.6113\n",
            "\n",
            "Epoch 00008: val_loss did not improve from 1.09505\n",
            "Epoch 9/25\n",
            "22967/22967 [==============================] - 66s 3ms/step - loss: 0.9133 - acc: 0.6503 - val_loss: 1.0985 - val_acc: 0.6113\n",
            "\n",
            "Epoch 00009: val_loss did not improve from 1.09505\n",
            "Epoch 10/25\n",
            "22967/22967 [==============================] - 66s 3ms/step - loss: 0.9102 - acc: 0.6512 - val_loss: 1.0973 - val_acc: 0.6115\n",
            "\n",
            "Epoch 00010: val_loss did not improve from 1.09505\n",
            "Epoch 11/25\n",
            "22967/22967 [==============================] - 67s 3ms/step - loss: 0.9169 - acc: 0.6485 - val_loss: 1.0971 - val_acc: 0.6115\n",
            "\n",
            "Epoch 00011: val_loss did not improve from 1.09505\n",
            "Epoch 12/25\n",
            "22967/22967 [==============================] - 67s 3ms/step - loss: 0.9148 - acc: 0.6493 - val_loss: 1.0971 - val_acc: 0.6116\n",
            "\n",
            "Epoch 00012: val_loss did not improve from 1.09505\n",
            "\n",
            "Epoch 00012: ReduceLROnPlateau reducing learning rate to 6.400000529538374e-08.\n",
            "Epoch 13/25\n",
            "22967/22967 [==============================] - 67s 3ms/step - loss: 0.9155 - acc: 0.6498 - val_loss: 1.0972 - val_acc: 0.6118\n",
            "\n",
            "Epoch 00013: val_loss did not improve from 1.09505\n",
            "Epoch 14/25\n",
            "22967/22967 [==============================] - 67s 3ms/step - loss: 0.9120 - acc: 0.6464 - val_loss: 1.0971 - val_acc: 0.6122\n",
            "\n",
            "Epoch 00014: val_loss did not improve from 1.09505\n",
            "Epoch 15/25\n",
            "22967/22967 [==============================] - 66s 3ms/step - loss: 0.9100 - acc: 0.6495 - val_loss: 1.0975 - val_acc: 0.6113\n",
            "\n",
            "Epoch 00015: val_loss did not improve from 1.09505\n",
            "Epoch 16/25\n",
            "22967/22967 [==============================] - 67s 3ms/step - loss: 0.9128 - acc: 0.6512 - val_loss: 1.0971 - val_acc: 0.6111\n",
            "\n",
            "Epoch 00016: val_loss did not improve from 1.09505\n",
            "\n",
            "Epoch 00016: ReduceLROnPlateau reducing learning rate to 1.2800001059076749e-08.\n",
            "Epoch 17/25\n",
            "22967/22967 [==============================] - 67s 3ms/step - loss: 0.9087 - acc: 0.6521 - val_loss: 1.0979 - val_acc: 0.6116\n",
            "\n",
            "Epoch 00017: val_loss did not improve from 1.09505\n",
            "Epoch 18/25\n",
            "22967/22967 [==============================] - 66s 3ms/step - loss: 0.9138 - acc: 0.6480 - val_loss: 1.0979 - val_acc: 0.6109\n",
            "\n",
            "Epoch 00018: val_loss did not improve from 1.09505\n",
            "Epoch 19/25\n",
            "22967/22967 [==============================] - 67s 3ms/step - loss: 0.9189 - acc: 0.6479 - val_loss: 1.0978 - val_acc: 0.6123\n",
            "\n",
            "Epoch 00019: val_loss did not improve from 1.09505\n",
            "Epoch 20/25\n",
            "22967/22967 [==============================] - 67s 3ms/step - loss: 0.9115 - acc: 0.6551 - val_loss: 1.0971 - val_acc: 0.6113\n",
            "\n",
            "Epoch 00020: val_loss did not improve from 1.09505\n",
            "\n",
            "Epoch 00020: ReduceLROnPlateau reducing learning rate to 2.5600002118153498e-09.\n",
            "Epoch 21/25\n",
            "22967/22967 [==============================] - 67s 3ms/step - loss: 0.9156 - acc: 0.6534 - val_loss: 1.0972 - val_acc: 0.6123\n",
            "\n",
            "Epoch 00021: val_loss did not improve from 1.09505\n",
            "Epoch 22/25\n",
            "22967/22967 [==============================] - 67s 3ms/step - loss: 0.9085 - acc: 0.6544 - val_loss: 1.0973 - val_acc: 0.6116\n",
            "\n",
            "Epoch 00022: val_loss did not improve from 1.09505\n",
            "Epoch 23/25\n",
            "22967/22967 [==============================] - 67s 3ms/step - loss: 0.9183 - acc: 0.6480 - val_loss: 1.0973 - val_acc: 0.6111\n",
            "\n",
            "Epoch 00023: val_loss did not improve from 1.09505\n",
            "Epoch 24/25\n",
            "22967/22967 [==============================] - 67s 3ms/step - loss: 0.9083 - acc: 0.6529 - val_loss: 1.0978 - val_acc: 0.6116\n",
            "\n",
            "Epoch 00024: val_loss did not improve from 1.09505\n",
            "\n",
            "Epoch 00024: ReduceLROnPlateau reducing learning rate to 5.1200004236307e-10.\n",
            "Epoch 25/25\n",
            "22967/22967 [==============================] - 67s 3ms/step - loss: 0.9137 - acc: 0.6515 - val_loss: 1.0970 - val_acc: 0.6113\n",
            "\n",
            "Epoch 00025: val_loss did not improve from 1.09505\n"
          ],
          "name": "stdout"
        },
        {
          "output_type": "execute_result",
          "data": {
            "text/plain": [
              "<keras.callbacks.History at 0x7fe810965240>"
            ]
          },
          "metadata": {
            "tags": []
          },
          "execution_count": 62
        }
      ]
    },
    {
      "cell_type": "code",
      "metadata": {
        "id": "dhKpmqipE5s1",
        "colab_type": "code",
        "colab": {}
      },
      "source": [
        "model_json = model.to_json()"
      ],
      "execution_count": 0,
      "outputs": []
    },
    {
      "cell_type": "code",
      "metadata": {
        "id": "QBozXmvETyqO",
        "colab_type": "code",
        "colab": {}
      },
      "source": [
        "import os"
      ],
      "execution_count": 0,
      "outputs": []
    },
    {
      "cell_type": "code",
      "metadata": {
        "id": "TomVs6jyT3I3",
        "colab_type": "code",
        "colab": {}
      },
      "source": [
        "with open('cnn_model.json', mode='w') as json_file:\n",
        "  json_file.write(model_json)"
      ],
      "execution_count": 0,
      "outputs": []
    },
    {
      "cell_type": "code",
      "metadata": {
        "id": "FGkZ__yJUDOn",
        "colab_type": "code",
        "colab": {
          "base_uri": "https://localhost:8080/",
          "height": 34
        },
        "outputId": "b9f96932-4ad3-458c-974e-e96ea70bb9e2"
      },
      "source": [
        "y_train[:5]"
      ],
      "execution_count": 32,
      "outputs": [
        {
          "output_type": "execute_result",
          "data": {
            "text/plain": [
              "array([6, 3, 3, 2, 4])"
            ]
          },
          "metadata": {
            "tags": []
          },
          "execution_count": 32
        }
      ]
    },
    {
      "cell_type": "code",
      "metadata": {
        "id": "7lJZk5GjfyXC",
        "colab_type": "code",
        "colab": {}
      },
      "source": [
        ""
      ],
      "execution_count": 0,
      "outputs": []
    }
  ]
}